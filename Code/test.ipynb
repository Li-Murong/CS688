{
 "cells": [
  {
   "cell_type": "code",
   "id": "initial_id",
   "metadata": {
    "collapsed": true,
    "ExecuteTime": {
     "end_time": "2024-10-31T01:00:02.455591Z",
     "start_time": "2024-10-31T01:00:02.451316Z"
    }
   },
   "source": [
    "import sys\n",
    "\n",
    "sys.executable"
   ],
   "outputs": [
    {
     "data": {
      "text/plain": [
       "'/usr/local/bin/python3.12'"
      ]
     },
     "execution_count": 1,
     "metadata": {},
     "output_type": "execute_result"
    }
   ],
   "execution_count": 1
  },
  {
   "metadata": {},
   "cell_type": "code",
   "outputs": [],
   "execution_count": null,
   "source": "",
   "id": "bdd922c83f499465"
  }
 ],
 "metadata": {
  "kernelspec": {
   "display_name": "Python (local)",
   "language": "python",
   "name": "local_env"
  },
  "language_info": {
   "codemirror_mode": {
    "name": "ipython",
    "version": 2
   },
   "file_extension": ".py",
   "mimetype": "text/x-python",
   "name": "python",
   "nbconvert_exporter": "python",
   "pygments_lexer": "ipython2",
   "version": "2.7.6"
  }
 },
 "nbformat": 4,
 "nbformat_minor": 5
}
